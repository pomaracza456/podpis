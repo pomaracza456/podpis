{
 "cells": [
  {
   "cell_type": "markdown",
   "metadata": {},
   "source": [
    "#### importy"
   ]
  },
  {
   "cell_type": "code",
   "execution_count": 8,
   "metadata": {},
   "outputs": [],
   "source": [
    "import os\n",
    "import math\n",
    "import Crypto\n",
    "from Crypto.Signature import pkcs1_15\n",
    "from Crypto.Hash import SHA3_384\n",
    "from Crypto.Cipher import AES\n",
    "from Crypto.PublicKey import RSA\n",
    "import random"
   ]
  },
  {
   "cell_type": "markdown",
   "metadata": {},
   "source": [
    "#### funkcje"
   ]
  },
  {
   "cell_type": "code",
   "execution_count": 9,
   "metadata": {},
   "outputs": [],
   "source": [
    "def stwórzLiczby(ilość, alpha):\n",
    "    \n",
    "    global ilośćWywołań\n",
    "    ilośćWywołań += 1\n",
    "    print('pobieranie liczb losowych nr', ilośćWywołań)\n",
    "    \n",
    "    os.system(\".\\program.exe \" + str(ilość) + \" \" + str(alpha))\n",
    "    with open(\"dane.txt\", 'r', encoding='utf8', errors='ignore') as file:\n",
    "        liczbyStr = file.read().split(\" \")[:-1]\n",
    "    liczbyStr[liczbyStr == ''] = '0'\n",
    "    liczby = [int(strLiczba) for strLiczba in liczbyStr]\n",
    "\n",
    "    return liczby\n",
    "\n",
    "def losowe(n):\n",
    "    \n",
    "    wynik = b''\n",
    "    global liczby\n",
    "    global akualnyIndeks\n",
    "    \n",
    "    for i in range(0,n):\n",
    "        if akualnyIndeks == 0 or akualnyIndeks == 20000 :\n",
    "            liczby = stwórzLiczby(ilość = 20000, alpha = 100)\n",
    "            akualnyIndeks = 0\n",
    "        \n",
    "        liczba = liczby[akualnyIndeks]\n",
    "        akualnyIndeks += 1\n",
    "        wynik += liczba.to_bytes(1, 'big')\n",
    "    \n",
    "#     print(akualnyIndeks, ' ', end='')\n",
    "#     print(wynik, ' ')\n",
    "    return wynik\n"
   ]
  },
  {
   "cell_type": "markdown",
   "metadata": {},
   "source": [
    "#### wiadomości"
   ]
  },
  {
   "cell_type": "code",
   "execution_count": 15,
   "metadata": {},
   "outputs": [],
   "source": [
    "wiadomość = \"chce dostać 3\"\n",
    "wiadomość2 = \"chce dostać 3\""
   ]
  },
  {
   "cell_type": "markdown",
   "metadata": {},
   "source": [
    "#### tworzenie kluczy rsa"
   ]
  },
  {
   "cell_type": "code",
   "execution_count": 11,
   "metadata": {
    "scrolled": false
   },
   "outputs": [
    {
     "name": "stdout",
     "output_type": "stream",
     "text": [
      "pobieranie liczb losowych nr 1\n",
      "pobieranie liczb losowych nr 2\n",
      "pobieranie liczb losowych nr 3\n",
      "pobieranie liczb losowych nr 4\n",
      "pobieranie liczb losowych nr 5\n",
      "pobieranie liczb losowych nr 6\n",
      "pobieranie liczb losowych nr 7\n",
      "pobieranie liczb losowych nr 8\n",
      "pobieranie liczb losowych nr 9\n",
      "pobieranie liczb losowych nr 10\n",
      "pobieranie liczb losowych nr 11\n",
      "pobieranie liczb losowych nr 12\n",
      "pobieranie liczb losowych nr 13\n",
      "pobieranie liczb losowych nr 14\n",
      "pobieranie liczb losowych nr 15\n",
      "pobieranie liczb losowych nr 16\n",
      "pobieranie liczb losowych nr 17\n",
      "pobieranie liczb losowych nr 18\n"
     ]
    }
   ],
   "source": [
    "global akualnyIndeks\n",
    "akualnyIndeks = 0\n",
    "global ilośćWywołań\n",
    "ilośćWywołań = 0\n",
    "\n",
    "klucze = RSA.generate(2048, losowe, 65537)"
   ]
  },
  {
   "cell_type": "markdown",
   "metadata": {},
   "source": [
    "#### wyświetlanie kluczy"
   ]
  },
  {
   "cell_type": "code",
   "execution_count": 12,
   "metadata": {},
   "outputs": [
    {
     "name": "stdout",
     "output_type": "stream",
     "text": [
      "n = \n",
      "25770670079174701747833019431762060992273641486693168736466571231061578963479844746688849700686056392180398890324105742415388695246485837513543015350111523560017944249070334659354646793394441704542787832079124398951574581003721116279796505292476195664979622241081796137770477708960739512142343930911072866084363920913429897522042511772962943813534617134826118086463062222195165561897879473464127119734210596063540082317293279724684642606300233884090431875052675961452924264260313452051303072366339955657381053152941642390473599225686196348533640625712657168941326922068482137726549920008823198245144985802851977400653\n",
      "e = \n",
      "65537\n",
      "d = \n",
      "6344754938355487837049647173144007120032703263777193811969913841890631886880512763004276395516955176494633278836413433332436645634921656617489279924743075827727536123789799919318126625770445176209225588103738223571164285184556680065513932008185094467298815169528892856431650830118998004383703173951094625364031374908866529503867172390179946844400921119442277702827242646333759728652486924381838089942064180830994953970614085832516511678346299758209023556090890747244202488061203566727080283062807879451497878792306937940203717444019361168263230748470931364660293597242455364283938621644509181126037589132488079221433\n"
     ]
    }
   ],
   "source": [
    "print('n = ', klucze.n, sep='\\n')\n",
    "print('e = ', klucze.e, sep='\\n')\n",
    "print('d = ', klucze.d, sep='\\n')"
   ]
  },
  {
   "cell_type": "markdown",
   "metadata": {},
   "source": [
    "#### tworzenie skrótu i podpisywanie go"
   ]
  },
  {
   "cell_type": "code",
   "execution_count": 16,
   "metadata": {
    "scrolled": false
   },
   "outputs": [
    {
     "name": "stdout",
     "output_type": "stream",
     "text": [
      "podpis\n",
      "b\"\\x0fh(\\xd2\\x84\\xf5p\\xf7\\xf5\\xe4*\\x00\\x14\\xd8\\x1a\\x1c3+BW\\x8c\\x9e\\xf8\\xac\\x10(\\x1c&\\xd2\\xabQ\\x06\\xb9\\xb1\\x89wF(\\xc6w\\x8f\\xc3\\x84\\xd8\\xe5B\\x1f\\xb6r\\xe4\\x04\\xb1p\\xe71b\\x83%\\x02.WH\\xad\\xb4\\xcf\\x1a`r\\xed\\xaeF\\xfe@D\\xb3sl9\\xcaC'\\xde-\\x85\\xb6$|\\xc4{\\x84x\\xf7\\x86\\xee6\\xe9^\\x8e\\x93aE\\x15\\xa0\\n:\\xd2\\xccuBE\\xf8\\x1c\\xd5/\\x02\\xfb\\xcaB|\\xf8\\xd7T\\xaam\\xc2\\xbb\\xb7\\x02^\\xfb\\xee1\\x1c\\xbdw\\xdc\\xd3\\x02\\xff\\xbfZr\\x04\\xc5`\\xe91\\x0b\\xb6\\xae.\\xa8\\xcb\\x90Bp\\x1a\\xe2\\x16s\\xdd\\x05\\x95+\\xcc,\\xc5\\xc2\\xc3\\xf56)u\\\\cg-@Pc\\xe9\\x98\\x92\\xa1\\xe2\\x81\\x84\\xd0\\x11\\x8b\\x8a\\x18j\\xc2\\xe3\\xe1\\xe0\\xe6@\\xe5\\x07mKsW\\x00\\xfa^\\x1cg\\xc3\\xf6{#][a(\\x87Fk\\xd3\\x88\\x02\\x95W\\\\\\xfa\\x0b\\x8a\\x0e\\x94\\xafDwd\\xbf{4-\\xe3A\\xe8c\\x99|`\\xb0P\\xf3\\x0f\\x06\\xf7$\\x03!\"\n",
      "\n"
     ]
    }
   ],
   "source": [
    "kluczPrywatny = pkcs1_15.new(klucze)\n",
    "\n",
    "skrót1 = SHA3_384.new()\n",
    "skrót1.update(wiadomość.encode(\"utf-8\", \"ignore\"))\n",
    "\n",
    "podpis = kluczPrywatny.sign(skrót1)\n",
    "print('podpis', podpis, sep='\\n', end='\\n\\n')"
   ]
  },
  {
   "cell_type": "markdown",
   "metadata": {},
   "source": [
    "#### sprawdzanie poprawności podpisu i wiadomości2"
   ]
  },
  {
   "cell_type": "code",
   "execution_count": 17,
   "metadata": {},
   "outputs": [
    {
     "name": "stdout",
     "output_type": "stream",
     "text": [
      "OK\n"
     ]
    }
   ],
   "source": [
    "kluczPubliczny = pkcs1_15.new(RSA.construct((klucze.n, klucze.e)))\n",
    "\n",
    "skrót2 = SHA3_384.new()\n",
    "skrót2.update(wiadomość2.encode(\"utf-8\", \"ignore\"))\n",
    "\n",
    "try:\n",
    "    kluczPubliczny.verify(skrót2, podpis)\n",
    "    print('OK')\n",
    "except:\n",
    "    print('NIE OK') "
   ]
  }
 ],
 "metadata": {
  "kernelspec": {
   "display_name": "Python 3",
   "language": "python",
   "name": "python3"
  },
  "language_info": {
   "codemirror_mode": {
    "name": "ipython",
    "version": 3
   },
   "file_extension": ".py",
   "mimetype": "text/x-python",
   "name": "python",
   "nbconvert_exporter": "python",
   "pygments_lexer": "ipython3",
   "version": "3.8.3"
  }
 },
 "nbformat": 4,
 "nbformat_minor": 5
}
